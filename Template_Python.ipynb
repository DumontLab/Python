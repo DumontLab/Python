{
 "cells": [
  {
   "cell_type": "code",
   "execution_count": 134,
   "metadata": {},
   "outputs": [
    {
     "name": "stdout",
     "output_type": "stream",
     "text": [
      "file found in directory: iris.csv\n",
      "file found in directory: titanic.csv\n"
     ]
    },
    {
     "data": {
      "image/png": "[encoded data removed]",
      "text/plain": [
       "<matplotlib.figure.Figure at 0x120becc50>"
      ]
     },
     "metadata": {},
     "output_type": "display_data"
    },
    {
     "name": "stdout",
     "output_type": "stream",
     "text": [
      "average petal length: 3.76\n",
      "doubled average petal length: 7.52\n"
     ]
    }
   ],
   "source": [
    "#### Title: Python Template\n",
    "### Name: Your Name\n",
    "### Date: 10/2018\n",
    "#\n",
    "# Short description of what the code does:\n",
    "# Plots a histogram of some sample data.\n",
    "#\n",
    "# Requirements to run:\n",
    "# Go to parameters and change the directory as desired.\n",
    "# Code will make a sample .csv dataset in this directory to use for plotting.\n",
    "\n",
    "###Import useful packages\n",
    "import os\n",
    "import numpy as np\n",
    "import pandas\n",
    "import matplotlib.pyplot as plt\n",
    "import scipy.stats\n",
    "\n",
    "\n",
    "###Parameters\n",
    "directory = \"/Users/manuela/Desktop/\"\n",
    "figuresize = (6,4)\n",
    "\n",
    "\n",
    "###Functions\n",
    "def myDoublingFunction(n):\n",
    "    \"\"\"Multiplies a number by 2.\"\"\"\n",
    "    doubleN = n * 2\n",
    "    return doubleN\n",
    "\n",
    "\n",
    "###Import data\n",
    "\n",
    "#Loading a sample dataset\n",
    "import seaborn\n",
    "iris = seaborn.load_dataset('iris')\n",
    "iris.to_csv(directory+\"iris.csv\")\n",
    "titanic = seaborn.load_dataset('titanic')\n",
    "titanic.to_csv(directory+\"titanic.csv\")\n",
    "\n",
    "#Reading a file\n",
    "data = pandas.read_csv(directory+\"iris.csv\")\n",
    "\n",
    "#Reading all csv filenames in a directory\n",
    "filenames = os.listdir(directory)\n",
    "for i in range(len(filenames)):\n",
    "    if filenames[i].endswith(\".csv\"):\n",
    "        print(\"file found in directory: \"+filenames[i])\n",
    "        \n",
    "\n",
    "###Make histogram of all sepal lengths\n",
    "\n",
    "fig = plt.figure(figsize=figuresize)\n",
    "ax = fig.add_subplot(111)\n",
    "ax.hist(iris.sepal_length, edgecolor = 'black')\n",
    "\n",
    "#axes & labels\n",
    "plt.xlabel('Sepal Length');\n",
    "plt.ylabel('Count');\n",
    "\n",
    "#save histogram\n",
    "plt.savefig(directory+\"iris_histo.pdf\")\n",
    "\n",
    "#show plot in jupyter\n",
    "plt.show()\n",
    "\n",
    "\n",
    "###Average petal length\n",
    "avg_petal_length = np.mean(iris.petal_length)\n",
    "double_avg_petal_length = myDoublingFunction(avg_petal_length)\n",
    "\n",
    "print(\"average petal length: \"+str(round(avg_petal_length,2))+\"\\ndoubled average petal length: \"+str(round(double_avg_petal_length,2)))"
   ]
  }
 ],
 "metadata": {
  "kernelspec": {
   "display_name": "Python 3",
   "language": "python",
   "name": "python3"
  },
  "language_info": {
   "codemirror_mode": {
    "name": "ipython",
    "version": 3
   },
   "file_extension": ".py",
   "mimetype": "text/x-python",
   "name": "python",
   "nbconvert_exporter": "python",
   "pygments_lexer": "ipython3",
   "version": "3.6.1"
  }
 },
 "nbformat": 4,
 "nbformat_minor": 2
}
